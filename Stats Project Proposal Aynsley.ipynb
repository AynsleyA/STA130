{
 "cells": [
  {
   "cell_type": "markdown",
   "id": "5cd02219",
   "metadata": {},
   "source": [
    "# 1. What is the overall effect on general wellness of living with a partner/kids during the pandemic? What is the effect on specific aspects of wellness (ie. depression, loneliness, exhaustion)?\n",
    "\n",
    "**Variables** \n",
    "\n",
    "Living with a partner/kids: These would be booleans because I just need to know if the columns are true or false. These variables could be visualized with a bar plot to compare the number of people living with a family or not. \n",
    "\n",
    "Overall life satisfaction: This is data type float and it is discrete. This variable would be well visualized by a bar plot as well because the data is discrete and what the interesting part in this variable would be is the frequency that each rating was chosen. \n",
    "\n",
    "Specific wellness variables (ex.depression, burn-out, sickness): This would be ordinal data because the phrases can go from positive to negative but I plan to assign a number that correlates to be able to put them in box plots. These would be well visualized with box plots because then they would be easier to compare between people living with family or not, but also between each other.\n",
    "\n",
    "**Analysis** \n",
    "\n",
    "I would plan to explore the difference in the average life satisfaction score given between people who recorded living with a partner/kids and those who said they were living alone through visualization. By looking at the average of the life satisfaction scores this would be able to give a general idea of if people with or without families were struggling more during this time. For the general life satisfaction score I would put all the scores into a histogram so I could see the shape of the data since there are so many different experiences people can have with or without kids and I think the shape would be really interesting to see. I would also compare the specific elements of the wellness section in the data between people who had a partner/kids and those who didn’t. Since this would be a lot more to compare I would use box plots since they are easier to see the overall difference between many different graphs. I would also take the actual numerical values of the means from these visualizations and compare them that way as well. Overall I would like to see if there is any correlation between having a partner/kids and life satisfaction.\n",
    "\n",
    "**Hypothesis**\n",
    "\n",
    "I would hypothesize that for general life satisfaction people living with families would be overall more satisfied than those living without families. It can be really difficult to be alone and just having a few people in the house can help with feeling overall more satisfied. On a more specific level I would expect to see a few more changes in the specific categories. For example I think people living with families would feel more tired compared to those living without families since there would still be work in the house even if no one is going out much, but I would guess that for loneliness the people living alone would feel the impacts of this more."
   ]
  },
  {
   "cell_type": "markdown",
   "id": "2ff6d7bf",
   "metadata": {},
   "source": [
    "# 2. Did dogs help people with loneliness during the lifestyle changes because of Covid? How do they compare to people without dogs?\n",
    "\n",
    "**Variables**\t\n",
    "\n",
    "Loneliness change compared to pre covid: This variable is originally ordinal data. I would change the ordinal data into numerical data by putting the answers on a number scale. I would represent this in a histogram so I could see the frequency of each value on the scale of loneliness felt by dog owners. I would do this with people who do and don't have dogs for comparison later.\n",
    "\n",
    "**Analysis**\n",
    "\n",
    "To analyze this question I would take a smaller sample of people who have dogs and then for each of these people I would give them a number based on where they answered on the loneliness change scale(Much more lonely: -2, NA/About the same: 0, Much less lonely: 2). I would use bootstrapping to create a confidence interval and see if 0 would be in that confidence interval. This would allow me to see if dogs had an effect overall on their owners loneliness. I would do the same thing but with a sample of people who don't have dogs and then compare the two answers to see if dogs helped compared to those who didn’t have a dog during covid.\n",
    "\n",
    "**Hypothesis**\n",
    "\n",
    "I would hypothesize that dogs would have no effect on their owners loneliness during the pandemic. I think such an intense shift in way of life would be difficult for the comfort of a pet to combat so I think in the end people with or without a dog would experience similar changes in feelings of loneliness.\n"
   ]
  },
  {
   "cell_type": "markdown",
   "id": "eeb331f0",
   "metadata": {},
   "source": [
    "# 3. How many people's cautiousness around safety was changed by Covid and the rules/regulations around it? Are there any similarities between people’s cautiousness and their likelihood of wearing a mask?\n",
    "\n",
    "**Variables**\n",
    "\n",
    "Response to questions about feelins of safety in a situation: This data would originally be ordinal data. To visualize this data I would take the sample mean of each individual’s mean found by turning the word scale into a numerical scale and using those numbers to find the mean for each person in the sample. I would show this distribution of means in a histogram so I could see the general shape and find the sample mean. \n",
    "\n",
    "Response to questions about wearing a mask:This variable would originally be ordinal data. I would use the same visualization technique for the data based on how many people would wear a mask for different activities and then the two histograms could be compared to see the difference in mean and shape.\n",
    "\n",
    "**Analysis**\n",
    "\n",
    "I would take a sample from the population and use hypothesis testing and bootstrapping to find if people's perceptions of safety were changed by Covid. An individual value of zero would mean that the individual isn’t affected by Covid while a ten would be on the other extreme of the scale. I would find the sample mean of these values with bootstrapping. I would then do the same with people’s opinions on wearing masks and see the similarities in the mean and shape between these two sets of bootstrapped data.\n",
    "\n",
    "**Hypothesis**\n",
    "\n",
    "I think that the sample mean would be between the middle for a pretty casual mindset and the lower end of the scale for being indifferent to the rules and regulations set by the government. I think this will be the response because not many people reacted well when gatherings were restricted and many couldn’t see the risks or were willing to take the risks to see friends and family. I do think there would be similarities between the graphs of how cautious people are about public gatherings and wearing their masks because if people are more cautious about going out in public they would definitely be wearing a mask."
   ]
  },
  {
   "cell_type": "markdown",
   "id": "9987882f",
   "metadata": {},
   "source": [
    "Joanna Wang, Veronica Kwon, and I would all really like to work together. We are in the same tutorial and have been working well together so far by discussing lectures, homework, and sometimes going to office hours."
   ]
  }
 ],
 "metadata": {
  "kernelspec": {
   "display_name": "Python 3 (ipykernel)",
   "language": "python",
   "name": "python3"
  },
  "language_info": {
   "codemirror_mode": {
    "name": "ipython",
    "version": 3
   },
   "file_extension": ".py",
   "mimetype": "text/x-python",
   "name": "python",
   "nbconvert_exporter": "python",
   "pygments_lexer": "ipython3",
   "version": "3.11.6"
  }
 },
 "nbformat": 4,
 "nbformat_minor": 5
}
