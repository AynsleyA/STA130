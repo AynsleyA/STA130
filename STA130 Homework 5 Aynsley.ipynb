{
 "cells": [
  {
   "cell_type": "markdown",
   "id": "b5149538",
   "metadata": {},
   "source": [
    "# Question 1\n",
    "\n",
    "Ideas can only be examined and tested specifically if there is data associated with those ideas that can be used in these tests. A good null hypothesis has a specific value in the statement and is a part of the status quo, it's not a super absurd idea that was never really considered to be correct anyways. The difference between the null hypothesis and the alternative hypothesis is that the null hypothesis is the one you test and aim to reject while the alternative hypothesis is just the answer if that happens. Also the null hypothesis is the status quo, it assumes no change or effect, while the alternative hypothesis is the opposite.\n",
    "\n",
    "# Question 2\n",
    "The goal of tests is to infer something about the population, where the population is every single data point in a dataset or the big picture, because we often don't know the exact values of any parameters(ex. mean, median, variance) in the population. We usually just have a smaller amount of data that may or may not represent the population, called a sample, and that's what we use to make inferences about the population. It's important to have tests give results for the population because we care about how different changes effect the big picture not a small part of the whole, but samples are still important to be able to get these test results. For example, if we are trying to figure out the average effect that a medication has on people but we only have the effect on ten people we can use the data from those ten people to figure out how the entire population might be affected. We call these 10 data points the observed sample. We can make a guess as to what the average change in health of the population will be and this is referred to as μO but it is just a guess that needs evidence to back it up, so we will take each observed data point, or the Xi's, and use them to simulate an entire population of data points based off of the null hypothesis. Then we can compare our simulated mean (average health change) and the mean of our 10 original data points which is known as x̄. By comparing them and seeing the difference between the two then we can make conclusions about the mean of the entire population, μ. Our conclusions about μ can't be confirmed because the number is unknown but we now have more confidence in our estimate of what μ might be. This is why the difference between samples and populations is important. We can use smaller amounts of data that are easier to collect, like the 10 people that took the medication, to see how bigger amounts of data might act, which in this case would be everyone who had to take the medication.\n",
    "\n",
    "# Question 3\n",
    "We are basing the p value on the idea that the null hypothesis is true because it's important to find the data based off the sampling distribution of the null hypothesis because that is what we expect to see if the null hypothesis is true. If we assume the null hypothesis is true then we can see if the data is likely or unlikely underneath the null hypothesis and then decide whether or not to reject it.\n",
    "\n",
    "Summary:Null Hypothesis and p-values: We discussed why, in hypothesis testing, we assume the null hypothesis is true when interpreting the p-value. The p-value tells us the probability of obtaining results as extreme as the observed data, under the assumption that the null hypothesis holds.\n",
    "\n",
    "Sampling Distribution: I explained that the sampling distribution of the test statistic under the null hypothesis provides a reference for determining how unusual the observed data is if the null hypothesis were true. This distribution helps identify rare events (low p-values) that might lead us to reject the null hypothesis.\n",
    "\n",
    "Simple Definition of p-value: I provided a straightforward definition: the p-value is the probability of observing data as extreme as the current data, assuming the null hypothesis is true.\n",
    "\n",
    "Example: I gave a coin-flip example to illustrate how a p-value works in practice, showing how it helps decide whether to reject or accept the null hypothesis.\n",
    "\n",
    "# Question 4\n",
    "A smaller p value makes the null hypothesis seem more ridiculous because the p value is the probability that we are able to get data that is more or equally as extreme as the observed sample statistic if the null hypothesis is true(this includes both tails of the normal distribution). If the chance of getting extreme data compared to the observed statistic is small that means that the observed statistic is already extreme compared to the null hypothesis, so the hypothesis is less probable. As the p value gets the smaller the null hypothesis is less representative of the observed sample, causing it to be rejected with more evidence against it.\n",
    "\n",
    "Summary: p-value Definition: The p-value is the probability of getting data as extreme as ours if the null hypothesis is true.\n",
    "\n",
    "Coin Flip Example: We calculated the p-value for observing 8 heads in 10 flips, testing if the coin is fair. This involved looking at how likely such results are under a fair-coin assumption.\n",
    "\n",
    "Two-Tailed Test: We considered that both 8 heads (high extreme) and 0 heads (low extreme) are unlikely, so we used a two-tailed test to get a fuller p-value.\n",
    "\n",
    "Sampling in Hypothesis Testing: We discussed how we use samples from a population to estimate larger patterns, and how sampling distributions help us see if our sample data is unusual under the null hypothesis.\n",
    "\n",
    "\n",
    "# Link for question 3+4: https://chatgpt.com/share/6701c14e-06cc-800d-b2e4-761140a36c2a\n",
    "\n",
    "\n",
    "# Question 5\n",
    "My null hypothesis is that couples don't tilt their heads when they kiss(or the probability is 0.5)\n",
    "My alternative hypothesis is that couples do tilt their heads when they kiss(or the probability is more than or equal to 0.5)"
   ]
  },
  {
   "cell_type": "code",
   "execution_count": 1,
   "id": "392332c8",
   "metadata": {},
   "outputs": [
    {
     "name": "stdout",
     "output_type": "stream",
     "text": [
      "Observed Proportion: 0.6452\n",
      "Simulated p-value: 0.0008\n"
     ]
    }
   ],
   "source": [
    "import numpy as np\n",
    "\n",
    "# Parameters\n",
    "observed_tilts = 80\n",
    "total_couples = 124\n",
    "observed_proportion = observed_tilts / total_couples\n",
    "n_simulations = 10000  # Number of simulations\n",
    "\n",
    "# Simulate under the null hypothesis\n",
    "np.random.seed(0)  # For reproducibility\n",
    "simulated_proportions = []\n",
    "\n",
    "for _ in range(n_simulations):\n",
    "    simulated_sample = np.random.binomial(n=total_couples, p=0.5)\n",
    "    simulated_proportion = simulated_sample / total_couples\n",
    "    simulated_proportions.append(simulated_proportion)\n",
    "\n",
    "# Calculate the p-value\n",
    "simulated_proportions = np.array(simulated_proportions)\n",
    "p_value = np.mean(simulated_proportions >= observed_proportion)\n",
    "\n",
    "print(f\"Observed Proportion: {observed_proportion:.4f}\")\n",
    "print(f\"Simulated p-value: {p_value:.4f}\")\n"
   ]
  },
  {
   "cell_type": "markdown",
   "id": "678e2d07",
   "metadata": {},
   "source": [
    "By comparing the observed data to the data in a world where the null hypothesis is true we get a p value of 0.0008. This value is smaller than 0.001 so there is very strong evidence against the null hypothesis so we reject the null hypothesis.\n",
    "\n",
    "Summary:Head-Tilting Couples: You presented a scenario where 80 out of 124 couples tilt their heads when kissing and asked about computing a simulation-based p-value to test the null hypothesis that couples do not tilt their heads while kissing.\n",
    "\n",
    "Simulation Approach: I outlined the steps to conduct the simulation, which involves stating the null and alternative hypotheses, calculating the observed proportion, simulating random samples under the null hypothesis, and calculating the p-value based on the simulated proportions.\n",
    "\n",
    "Coin Flipping Model: You inquired if the same method applies to a coin flipping model, and I confirmed that it does.\n",
    "\n",
    "Observed Proportion Calculation: You asked for clarification on how the observed proportion works in the couple example. I explained that it is calculated by dividing the number of couples who tilt their heads by the total number of couples, resulting in an observed proportion of approximately 64.52%.\n",
    "\n",
    "# Link for Question 5: https://chatgpt.com/share/6701cc6b-ba50-800d-8455-f5a129d23936\n",
    "\n",
    "# Question 6\n",
    "\n",
    "A smaller p-value can not definitively prove that a null hypothesis is false because of factors such as sample size, random chance, statistical significance and false positives. This is why we say we reject the null hypothesis we dont say the null hypothesis is false. We could not prove fully that fido is guilty but we also can't prove with 100% certainty that he was innocent either. In that case the p value just shows a lack of evidence to reject the null hypothesis nothing about proving it. Because of what stated before no matter how high or low the p value can never definitively prove anything.\n",
    "\n",
    "Summary:P-values do not definitively prove a hypothesis: A small p-value suggests evidence against the null hypothesis, but it doesn't prove the null hypothesis false. Likewise, a large p-value does not prove the null hypothesis true; it only suggests there isn’t strong evidence against it.\n",
    "\n",
    "Limitations of p-values: P-values provide a probability under the assumption that the null hypothesis is true but do not confirm or disprove the hypothesis itself. Factors like sample size, practical significance, and the possibility of random chance can influence p-values.\n",
    "\n",
    "Scientific interpretation: P-values serve as indicators of evidence strength but do not offer definitive proof. Hypothesis testing requires contextual interpretation, and scientific conclusions are typically based on accumulating evidence across studies rather than single p-value results.\n",
    "\n",
    "# Link for Question 6: https://chatgpt.com/share/67082f48-22c8-800d-b1a3-4efb4abeed73\n",
    "\n",
    "# Question 7"
   ]
  },
  {
   "cell_type": "code",
   "execution_count": 1,
   "id": "7aab3ab1",
   "metadata": {},
   "outputs": [
    {
     "name": "stdout",
     "output_type": "stream",
     "text": [
      "Patient Data with Health Score Change:\n",
      "    PatientID  Age Gender  InitialHealthScore  FinalHealthScore  \\\n",
      "0          1   45      M                  84                86   \n",
      "1          2   34      F                  78                86   \n",
      "2          3   29      M                  83                80   \n",
      "3          4   52      F                  81                86   \n",
      "4          5   37      M                  81                84   \n",
      "5          6   41      F                  80                86   \n",
      "6          7   33      M                  79                86   \n",
      "7          8   48      F                  85                82   \n",
      "8          9   26      M                  76                83   \n",
      "9         10   39      F                  83                84   \n",
      "\n",
      "   HealthScoreChange  \n",
      "0                  2  \n",
      "1                  8  \n",
      "2                 -3  \n",
      "3                  5  \n",
      "4                  3  \n",
      "5                  6  \n",
      "6                  7  \n",
      "7                 -3  \n",
      "8                  7  \n",
      "9                  1  \n",
      "\n",
      "Observed Statistic (Proportion of HealthScoreChange > 0): 0.8\n",
      "Number of Simulations: 10000\n",
      "\n",
      "Number of simulated statistics (under H0)\n",
      "that are \"as or more extreme\" than the observed statistic: 565\n",
      "\n",
      "One-sided p-value\n",
      "(= simulations \"as or more extreme\" / total simulations): 0.0565\n"
     ]
    }
   ],
   "source": [
    "import pandas as pd\n",
    "import numpy as np\n",
    "\n",
    "# Initialize the patient data DataFrame\n",
    "patient_data = pd.DataFrame({\n",
    "    \"PatientID\": [1, 2, 3, 4, 5, 6, 7, 8, 9, 10],\n",
    "    \"Age\": [45, 34, 29, 52, 37, 41, 33, 48, 26, 39],\n",
    "    \"Gender\": [\"M\", \"F\", \"M\", \"F\", \"M\", \"F\", \"M\", \"F\", \"M\", \"F\"],\n",
    "    \"InitialHealthScore\": [84, 78, 83, 81, 81, 80, 79, 85, 76, 83],\n",
    "    \"FinalHealthScore\": [86, 86, 80, 86, 84, 86, 86, 82, 83, 84]\n",
    "})\n",
    "\n",
    "# Calculate HealthScoreChange for each patient\n",
    "patient_data['HealthScoreChange'] = patient_data['FinalHealthScore'] - patient_data['InitialHealthScore']\n",
    "\n",
    "# Set up the parameters for the simulation\n",
    "np.random.seed(1)  # Ensure reproducibility\n",
    "number_of_simulations = 10000  # Number of simulations\n",
    "n_size = len(patient_data)\n",
    "IncreaseProportionSimulations_underH0random = np.zeros(number_of_simulations)\n",
    "\n",
    "# Simulate \"random improvement\" proportions under H0 (no average effect)\n",
    "for i in range(number_of_simulations):\n",
    "    random_improvement = np.random.choice([0, 1], size=n_size, replace=True)\n",
    "    IncreaseProportionSimulations_underH0random[i] = random_improvement.mean()\n",
    "\n",
    "# Calculate the observed statistic\n",
    "observed_statistic = (patient_data['HealthScoreChange'] > 0).mean()\n",
    "simulated_statistics = IncreaseProportionSimulations_underH0random\n",
    "\n",
    "# For a one-sided test, consider only simulations where the statistic is >= the observed statistic\n",
    "SimStats_as_or_more_extreme_than_ObsStat = simulated_statistics >= observed_statistic\n",
    "\n",
    "# Calculate the one-sided p-value\n",
    "p_value = SimStats_as_or_more_extreme_than_ObsStat.sum() / number_of_simulations\n",
    "\n",
    "print(\"Patient Data with Health Score Change:\\n\", patient_data)\n",
    "print(\"\\nObserved Statistic (Proportion of HealthScoreChange > 0):\", observed_statistic)\n",
    "print(\"Number of Simulations: \", number_of_simulations, \"\\n\\n\",\n",
    "      \"Number of simulated statistics (under H0)\\n\",\n",
    "      'that are \"as or more extreme\" than the observed statistic: ',\n",
    "      SimStats_as_or_more_extreme_than_ObsStat.sum(), \"\\n\\n\",\n",
    "      'One-sided p-value\\n(= simulations \"as or more extreme\" / total simulations): ', p_value, sep=\"\")\n"
   ]
  },
  {
   "cell_type": "markdown",
   "id": "e75e3d83",
   "metadata": {},
   "source": [
    "The difference in the code is how the values as or more extreme were calculated. Instead of finding the absolute value of the distance between the mean according to the null hypothesis and the simulated/observed and then finding the cases when the simulated was bigger or equal to the observed the code now just has to find when the simulated is bigger than the observed. It doesn't have to calculate the distence or the absolute value because we are simply looking for the bigger values. The difference in the interpretation of the null hypothesis is that now we are looking only for positive changes. A two sided test looks for any significant changes, good or bad, but a one sided test will only look for significant positive changes. We should expect the p value to be smaller in a one sided test because we lose many times when a value was as or more extreme because they happened on the side that isn't being tested. This will lead to the ratio of times when the statistic was more extreme vs all tests being smaller resulting in a smaller overall p value.\n",
    "\n",
    "Summary:\n",
    "Code Modification for One-Sided Test: You initially provided code for a two-sided hypothesis test on a dataset measuring health score improvements. We modified the code to perform a one-sided test, where only positive improvements in health scores were considered \"extreme\" under the null hypothesis.\n",
    "\n",
    "Explanation of Code Changes:\n",
    "\n",
    "Two-Sided Test: The original code considered deviations in both directions (positive and negative) from the null hypothesis expectation, using an absolute comparison to assess extremeness.\n",
    "One-Sided Test: We adjusted the code to look only at values greater than or equal to the observed statistic, focusing on positive improvements, which aligned with the hypothesis that the vaccine improves health scores.\n",
    "Interpretation Differences:\n",
    "\n",
    "Two-Sided Test Interpretation: The two-sided test assesses any significant deviation from the null hypothesis, whether positive or negative.\n",
    "One-Sided Test Interpretation: The one-sided test specifically tests for improvement, aligning the p-value with evidence for an increase only.\n",
    "As a result, one-sided p-values are often smaller when the effect aligns with the hypothesized direction.\n",
    "Summary Takeaway:\n",
    "\n",
    "A one-sided test can provide more sensitivity for directional hypotheses, with the trade-off that it ignores effects in the opposite direction, while a two-sided test is more general, testing for any significant change in either direction.\n",
    "\n",
    "# Link for Question 7: https://chatgpt.com/share/670aeb51-c9b8-800d-8364-1a3edb0d3ffc\n",
    "\n",
    "# Question 8\n",
    "\n",
    "<b>Problem Introduction:<b/>\n",
    "\n",
    "    Fisher saw that Bristol was able to diffrentiate between the cups of tea where milk was poured first and the cups where the milk was poured last. By taking a larger sample size, or testing more people, we can test the chances that Bristol was able to guess correctly randomly or if she really knew the difference. We will take 80 STA130 students and see how many can guess the order of milk and tea correctly in one cup of tea. By seeing how many people can get it right with one cup of teea we can use this to decide if Bristol was just guessing or not. In this case the population is if every person in the world had to guess based off one cup if the milk or tea was poured first and the sample is the 80 STA130 students.The statistic that is being tested is the mean of the proportion of correct reponses and we will compare the mean of the observed sample to the mean of our distribution under the null hypothesis.\n",
    "    \n",
    "    Null Hypothesis:μ = 0.5 or the chance that the students guess the order of milk and tea is 50%.\n",
    "    Alternative Hypothesis: The null hypothesis is false."
   ]
  },
  {
   "cell_type": "code",
   "execution_count": 4,
   "id": "460df44c",
   "metadata": {},
   "outputs": [
    {
     "name": "stdout",
     "output_type": "stream",
     "text": [
      "Observed correct responses: 49 out of 80\n",
      "Simulated p-value: 0.0294\n"
     ]
    }
   ],
   "source": [
    "import numpy as np\n",
    "\n",
    "# Set a random seed for reproducibility\n",
    "np.random.seed(42)\n",
    "\n",
    "# Observed data\n",
    "observed_correct = 49\n",
    "total_students = 80\n",
    "null_prob = 0.5  # Null hypothesis: each student has a 50% chance of guessing correctly\n",
    "\n",
    "# Number of simulations\n",
    "num_simulations = 10000\n",
    "\n",
    "# Run simulations: each simulation tests 80 students with a 50% chance of being correct\n",
    "simulated_correct_counts = np.random.binomial(total_students, null_prob, num_simulations)\n",
    "\n",
    "# Calculate the p-value: proportion of simulations where result is at least as extreme as observed\n",
    "p_value = np.sum(simulated_correct_counts >= observed_correct) / num_simulations\n",
    "\n",
    "# Print results\n",
    "print(f\"Observed correct responses: {observed_correct} out of {total_students}\")\n",
    "print(f\"Simulated p-value: {p_value:.4f}\")\n"
   ]
  },
  {
   "cell_type": "markdown",
   "id": "40b918c8",
   "metadata": {},
   "source": [
    "<b> Quantitative Analysis<b/>\n",
    "    \n",
    "    The code above reproduces the experiment with 80 students 10,000 times assuming that the null hypothesis is true and then calculates how many times the simulated sample mean was as or more extreme than the observed statistic. This gave a p value of 0.0294. The code below produces a histogram that plots the distribution of simulated sample means and with a red line marks where the observed statistic is."
   ]
  },
  {
   "cell_type": "code",
   "execution_count": 5,
   "id": "1d90a475",
   "metadata": {},
   "outputs": [
    {
     "data": {
      "image/png": "[encoded data removed]",
      "text/plain": [
       "<Figure size 1000x600 with 1 Axes>"
      ]
     },
     "metadata": {},
     "output_type": "display_data"
    }
   ],
   "source": [
    "import numpy as np\n",
    "import matplotlib.pyplot as plt\n",
    "\n",
    "# Set a random seed for reproducibility\n",
    "np.random.seed(42)\n",
    "\n",
    "# Observed data\n",
    "observed_correct = 49\n",
    "total_students = 80\n",
    "null_prob = 0.5  # Null hypothesis: each student has a 50% chance of guessing correctly\n",
    "\n",
    "# Number of simulations\n",
    "num_simulations = 10000\n",
    "\n",
    "# Run simulations: each simulation tests 80 students with a 50% chance of being correct\n",
    "simulated_correct_counts = np.random.binomial(total_students, null_prob, num_simulations)\n",
    "\n",
    "# Convert counts to proportions\n",
    "simulated_proportions = simulated_correct_counts / total_students\n",
    "observed_proportion = observed_correct / total_students\n",
    "\n",
    "# Plot histogram of simulated proportions with pink bars\n",
    "plt.figure(figsize=(10, 6))\n",
    "plt.hist(simulated_proportions, bins=30, color='pink', edgecolor='black', alpha=0.7)\n",
    "plt.axvline(observed_proportion, color='red', linestyle='dashed', linewidth=2, label=f'Observed Proportion = {observed_proportion:.2f}')\n",
    "plt.title(\"Distribution of Simulated Correct Response Proportions under Null Hypothesis\")\n",
    "plt.xlabel(\"Proportion of Correct Responses\")\n",
    "plt.ylabel(\"Frequency\")\n",
    "plt.legend()\n",
    "plt.show()"
   ]
  },
  {
   "cell_type": "markdown",
   "id": "b0e99090",
   "metadata": {},
   "source": [
    "<b> Findings and Discussion <b/>\n",
    "    \n",
    "    With a p value of 0.0294 and looking at the above histogram we can see that we can reject the null hypothesis with moderate evidence against it. The observed statistic is far away from the mean when we assume the null hypothesis is true which means that the number of times we get a value as or more extreme is small, resulting in a small p value. Because the p value is smaller than 0.05 we can reject the null hypothesis and say that people are not just guessing if the milk was put first or last in their tea. This means that it's likely that Bristol really knew the difference between the teas.\n",
    "    \n",
    "Summary:\n",
    "Tea Test Probability Calculation: We first calculated the probability that someone could randomly guess the correct order of milk in 8 cups (4 with milk first, 4 with milk last). We found the probability of randomly getting all correct to be around 1.43% (1 in 70).\n",
    "\n",
    "Hypothesis Testing: You mentioned a scenario where 49 out of 80 people correctly identified the milk order. We discussed setting up a null hypothesis to test if this result could be due to chance. We used a binomial approach to model the probability of random guessing as a 50% chance of correct guessing.\n",
    "\n",
    "Simulation Code: I provided Python code to simulate this scenario by treating each response as a coin flip. We simulated 80 guesses across 10,000 trials, checked how often 49 or more people guessed correctly, and computed a p-value.\n",
    "\n",
    "Histogram Visualization: We added a histogram of the simulated results to visualize the distribution under the null hypothesis, marking the observed value (49) with a red dashed line.\n",
    "\n",
    "Customization of Visualization: You asked to modify the histogram, first by changing the bar color to pink, then by adjusting the x-axis to display proportions (0.5 for 40 correct out of 80, etc.), for a clearer interpretation.\n",
    "    "
   ]
  },
  {
   "cell_type": "markdown",
   "id": "801ebdd1",
   "metadata": {},
   "source": [
    "# Link for Question 8: https://chatgpt.com/share/670b1461-2bdc-800d-a38e-0c317d4ffa66"
   ]
  }
 ],
 "metadata": {
  "kernelspec": {
   "display_name": "Python 3 (ipykernel)",
   "language": "python",
   "name": "python3"
  },
  "language_info": {
   "codemirror_mode": {
    "name": "ipython",
    "version": 3
   },
   "file_extension": ".py",
   "mimetype": "text/x-python",
   "name": "python",
   "nbconvert_exporter": "python",
   "pygments_lexer": "ipython3",
   "version": "3.11.6"
  }
 },
 "nbformat": 4,
 "nbformat_minor": 5
}
