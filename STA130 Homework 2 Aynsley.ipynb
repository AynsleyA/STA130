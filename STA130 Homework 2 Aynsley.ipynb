{
 "cells": [
  {
   "cell_type": "markdown",
   "id": "91ee2c75",
   "metadata": {},
   "source": [
    "# Question 2 \n",
    "I found the new code easier to read and understand. In the original code there was a lot of moving pieces and variables switching back and forth which definitetly simulated the game show feeling, but the chat's code was easier to understand just because there's a lot less lines of code and the idea is simpler.\n",
    "\n",
    "Summary: \n",
    "Initial Code: You shared Python code simulating the Monty Hall problem. The code involved choosing a door, removing doors revealed by the host, and switching to the remaining door, repeating this simulation 100,000 times to determine the win rate when switching.\n",
    "\n",
    "Explanation of the Code: I provided a detailed breakdown of how your code works, step by step. We discussed key aspects like how doors are manipulated and how the host reveals a \"goat\" door before you switch to another door. We also talked about the key concept behind the Monty Hall problem: switching doors increases your chances of winning to 2/3.\n",
    "\n",
    "Suggestions for Simplifying the Loop: You asked for a simpler way to write the for loop. I suggested a more intuitive and cleaner approach that doesn't require manually removing doors or handling exceptions. In the simplified version, the focus is on whether the initial door choice is incorrect, which directly determines if switching will result in a win.\n",
    "\n",
    "# Question 3"
   ]
  },
  {
   "cell_type": "code",
   "execution_count": 1,
   "id": "834a4a70",
   "metadata": {},
   "outputs": [
    {
     "data": {
      "text/plain": [
       "0.66633"
      ]
     },
     "execution_count": 1,
     "metadata": {},
     "output_type": "execute_result"
    }
   ],
   "source": [
    "import numpy as np\n",
    "\n",
    "all_door_options = (1, 2, 3) # add doors to tuple\n",
    "initial_door_choice = 1  # always start by picking door 1\n",
    "i_won = 0\n",
    "reps = 100000  # number of repetitions\n",
    "\n",
    "for i in range(reps):\n",
    "    secret_winning_door = np.random.choice(all_door_options)  # randomly select the winning door from the tuple\n",
    "    \n",
    "    # If your initial choice is not the winning door switching will win so add to the win counter\n",
    "    if initial_door_choice != secret_winning_door:\n",
    "        i_won += 1\n",
    "\n",
    "# Calculate and print the proportion of wins\n",
    "win_percentage = i_won / reps\n",
    "win_percentage\n"
   ]
  },
  {
   "cell_type": "markdown",
   "id": "94016c92",
   "metadata": {},
   "source": [
    "Summary: Suggestions for Simplifying the Loop: You asked for a simpler way to write the for loop. I suggested a more intuitive and cleaner approach that doesn't require manually removing doors or handling exceptions. In the simplified version, the focus is on whether the initial door choice is incorrect, which directly determines if switching will result in a win."
   ]
  },
  {
   "cell_type": "markdown",
   "id": "61e2d6a8",
   "metadata": {},
   "source": [
    "# Link for chatgpt 2 + 3 https://chatgpt.com/share/66e4ae02-bbbc-800d-ba39-c3d46cd7c6c6\n",
    "\n",
    "# Question 4\n",
    "\n",
    "summary:\n",
    "Markovian Chatbot Code:\n",
    "\n",
    "You shared a piece of code that builds word frequency data for creating a Markovian chatbot.\n",
    "I provided a detailed explanation of the code, breaking down how it tracks word occurrences and the probabilities of one word following another.\n",
    "Code Optimization:\n",
    "\n",
    "I suggested using Python’s defaultdict from the collections module to simplify the code, removing the need for manually checking and initializing dictionary entries.\n",
    "Detailed Loop Breakdown:\n",
    "\n",
    "I walked through each step of the loop, explaining how it updates two dictionaries: word_used (tracking word counts) and next_word (tracking word transitions), with an example to clarify the process.\n",
    "Outcome:\n",
    "\n",
    "You mentioned that you understood the explanation, and I offered to help with any further questions.\n",
    "\n",
    "# Question 5 part 1 and 2\n",
    "Summary: Markov Chain Extensions:\n",
    "\n",
    "You shared two extensions to your Markov chain model:\n",
    "First Extension: Tracks two-word sequences instead of single words.\n",
    "I explained how the code now captures more context by considering consecutive word pairs and how this can generate more coherent text.\n",
    "Second Extension: Associates word sequences and transitions with specific characters from a dataset.\n",
    "I provided a detailed breakdown of how the code identifies characters and tracks word sequences and transitions separately for each character, allowing for character-specific speech patterns.\n",
    "Purpose and Benefits:\n",
    "\n",
    "Both extensions enhance the predictive capabilities of the model by either adding more context (with two-word sequences) or making predictions character-specific.\n",
    "\n",
    "\n",
    "# Link for question 4 and first and second part of question 5 https://chatgpt.com/share/66e4fb9b-bd54-800d-9f5a-d1bca4571690\n",
    "\n",
    "Summary of part 3:\n",
    "Markovian Chatbot Code:\n",
    "\n",
    "You shared a snippet of code for a Markovian chatbot that tracks word frequencies and transitions between words using dictionaries.\n",
    "The initial code uses standard dictionaries to count single words and the words that follow them.\n",
    "Code Extension:\n",
    "\n",
    "You extended the code to handle bi-grams (pairs of consecutive words) and track which words follow these pairs.\n",
    "You also introduced character-specific handling, where the model tracks word sequences for different characters based on data from the avatar.character column.\n",
    "Explanation of defaultdict:\n",
    "\n",
    "I explained how defaultdict from the collections module simplifies working with dictionaries by providing default values for non-existent keys.\n",
    "I provided examples of using defaultdict with different default values like int, list, and dict.\n",
    "We discussed how defaultdict can be used to simplify nested dictionary operations in your code.\n",
    "Summary and Further Assistance:\n",
    "\n",
    "I offered to help with any more questions or further explanations about Python or other topics you might be interested in.\n",
    "\n",
    "\n",
    "# Link for last part of question 5 https://chatgpt.com/share/66e8d1fe-e164-800d-8ea9-9c7bacb81107\n",
    "\n"
   ]
  },
  {
   "cell_type": "markdown",
   "id": "808aa09b",
   "metadata": {},
   "source": [
    "# Question 6\n",
    "\n",
    "1. I found the chatbot was able to help very quickly with both the Monte Hall problem and the Markovian Chatbot code. It might have had something to do with being on the free trial of the better version of ChatGPT but I found that the answers were exactly what I was looking for with a good balance between detail and simple explanations. It was also fast in the way that the chatbot tried to guess what I would ask next and add that into the answer as well. Often I found myself not having to ask a follow-up question after many questions. For example, after simply inserting the extension of the Markovian chatbot the bot would tell me more than I wanted. In this specific case it gave me an explanation of how the code works, simple explanations of the different methods and an example if the code were to run.\n",
    "\n",
    "2. I did not find it frustrating at all. I thought the chatbot was well equipped to answer my questions which were often very general and when I asked for a more specific explanation I thought they were very informative as well. Usually when chatbots don't work it is because they don't understand the question that was asked, but in my experience they are good at interpreting what I am asking which results in avoiding any frustration.\n",
    "\n",
    "3. I think chatbots are very useful when developing code as long as the code isn't too difficult. Since I am not dealing with any intense concepts right now I think chatbots work great for my purpose. They are good at finding errors and recommending ways to fix it, which can help a lot since debugging is one of the most time consuming things when coding and if you aren't familiar with the error codes yet the chatbot can reduce the time spent by a lot. I also find that the chatbot gives good examples that can really help you apply the concepts to your own code. Overall, I think chatbots are a very useful tool when learning how to code.\n",
    "\n",
    "# Question 7\n",
    "\n",
    "Before the course I thought AI would more often than not give wrong or not useful answers, but this course has made me realize that AI really is improving all the time and that it can be a great tool to compliment your learning. I have also become less afraid of using AI. Everyday I'm seeing that AI is the way of the future and throughout these first two weeks of the course I have become more comfortable with using it to help. I have found what balance works for me so that I can learn most efficiently. Specifically for data science and statistics, I have realized how much AI can make life a lot simpler. You can learn new coding languages and focus more on how to make the most efficient code rather than having to just use the basics. With AI you can learn the same things but with a less drastic learning curve. This doesn't mean that you don't have to be able to code or answer questions by yourself, but AI can be a useful tool to maximize efficiency as technology becomes a staple in more industries, specifically data science and statistics.\n",
    "\n",
    "# Question 8 \n",
    "\n",
    "Summary:\n",
    "Relevance of Skills: We discussed the importance of coding, communication, and statistical analysis skills in today’s job market. Each skill plays a crucial role in various careers, from data science to business analysis.\n",
    "\n",
    "Career Options: We explored potential careers for someone with coding, communication, and statistical analysis skills, including roles like data scientist, software engineer, business analyst, and quantitative analyst.\n",
    "\n",
    "Jobs for Statistics and Astrophysics Degrees: We looked at career opportunities for someone with degrees in statistics and astrophysics, such as data scientist, quantitative analyst, and astrophysicist.\n",
    "\n",
    "Preparing for a Space Mission Analyst Role: We discussed steps to prepare for a career as a space mission analyst, including focusing on relevant coursework, gaining practical experience, developing technical skills, and networking.\n",
    "\n",
    "Job Demand and Advanced Degrees: We talked about the current demand for roles like space mission analyst and quantitative analyst, and the role of advanced degrees in securing good jobs. Advanced degrees can be beneficial for specialized fields and competitive roles but are not always necessary if you have relevant skills and experience.\n",
    "\n",
    "Reflection: My current thoughts is that with a background in coding and data analyst thers lots of opportunities in different fields. If i want to utilize my astrophysics degree as well thats when things get more specialized. After talking with the chatbot what I need most is networking and practical experience. Job hunting can be competitive so having a person who can vouch for you can make all the difference. I would also consider getting an advanced degree since that can also give you an edge over other candidates. Overall, it's good to have a lot of background and experience when trying to get a job. It's important to do anything you can now to help your future self. \n",
    "I do think chat was very optimistic when I know a lot of people talk about how difficult it is to get a job so that made the bots advice feel less trustworthy. I also think if I wanted specific information on how to prepare for an interview or a specific position I would need to talk to a professional. A professional would maybe know good people to get introduced to or specific places to get started, Specific information that chat just can't give.\n",
    "# link for 8 https://chatgpt.com/share/66e8df7a-5ea4-800d-927b-bdb4d72dd884\n",
    "\n",
    "# Question 9\n",
    "yes"
   ]
  }
 ],
 "metadata": {
  "kernelspec": {
   "display_name": "Python 3 (ipykernel)",
   "language": "python",
   "name": "python3"
  },
  "language_info": {
   "codemirror_mode": {
    "name": "ipython",
    "version": 3
   },
   "file_extension": ".py",
   "mimetype": "text/x-python",
   "name": "python",
   "nbconvert_exporter": "python",
   "pygments_lexer": "ipython3",
   "version": "3.11.6"
  }
 },
 "nbformat": 4,
 "nbformat_minor": 5
}
